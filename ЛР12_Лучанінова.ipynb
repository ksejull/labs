{
  "nbformat": 4,
  "nbformat_minor": 0,
  "metadata": {
    "colab": {
      "provenance": [],
      "toc_visible": true,
      "authorship_tag": "ABX9TyPR1vjchitzTTYbSRNkg6Ue",
      "include_colab_link": true
    },
    "kernelspec": {
      "name": "python3",
      "display_name": "Python 3"
    },
    "language_info": {
      "name": "python"
    }
  },
  "cells": [
    {
      "cell_type": "markdown",
      "metadata": {
        "id": "view-in-github",
        "colab_type": "text"
      },
      "source": [
        "<a href=\"https://colab.research.google.com/github/ksejull/labs/blob/main/%D0%9B%D0%A012_%D0%9B%D1%83%D1%87%D0%B0%D0%BD%D1%96%D0%BD%D0%BE%D0%B2%D0%B0.ipynb\" target=\"_parent\"><img src=\"https://colab.research.google.com/assets/colab-badge.svg\" alt=\"Open In Colab\"/></a>"
      ]
    },
    {
      "cell_type": "markdown",
      "source": [
        "Лучанінова Ксенія, Група 2-8, Варіант 11\n",
        "\n",
        "#Лабораторна робота №12"
      ],
      "metadata": {
        "id": "tDNku85WpjCH"
      }
    },
    {
      "cell_type": "code",
      "source": [
        "import numpy as np\n",
        "from scipy import integrate\n",
        "\n",
        "# Межі інтегрування та кількість поділок\n",
        "a = 2\n",
        "b = 3.5\n",
        "n = 10\n",
        "h = (b - a) / n  # Крок\n",
        "\n",
        "# Визначаємо функцію f(x) = 1 / sqrt(x - 1)\n",
        "def f1(x):\n",
        "    return 1 / np.sqrt(x - 1)\n",
        "\n",
        "# Метод лівих прямокутників\n",
        "def left_rec(f1, a, b):\n",
        "    sum = 0\n",
        "    for i in range(0, n):\n",
        "        sum += f1(a + i * h)\n",
        "    return sum * h\n",
        "\n",
        "# Метод правих прямокутників\n",
        "def right_rec(f1, a, b):\n",
        "    sum = 0\n",
        "    for i in range(1, n + 1):\n",
        "        sum += f1(a + i * h)\n",
        "    return sum * h\n",
        "\n",
        "# Метод середніх прямокутників (метод середини)\n",
        "def aver_rec(f1, a, b):\n",
        "    sum = 0\n",
        "    for i in range(0, n):\n",
        "        sum += f1(a + (i + 0.5) * h)\n",
        "    return sum * h\n",
        "\n",
        "# Виконуємо обчислення\n",
        "print(\"Метод лівих прямокутників:\", round(left_rec(f1, a, b), 5))\n",
        "print(\"Метод правих прямокутників:\", round(right_rec(f1, a, b), 5))\n",
        "print(\"Метод середніх прямокутників:\", round(aver_rec(f1, a, b), 5))\n",
        "\n",
        "# Перевірка за допомогою функції scipy\n",
        "v, err = integrate.quad(f1, a, b)\n",
        "print(\"Перевірка методом quad із SciPy:\", round(v, 5))\n"
      ],
      "metadata": {
        "colab": {
          "base_uri": "https://localhost:8080/"
        },
        "id": "nB85ys0EbVwt",
        "outputId": "e08b4d6f-3a75-4c2a-918d-4df7b9ff4673"
      },
      "execution_count": 2,
      "outputs": [
        {
          "output_type": "stream",
          "name": "stdout",
          "text": [
            "Метод лівих прямокутників: 1.19054\n",
            "Метод правих прямокутників: 1.13541\n",
            "Метод середніх прямокутників: 1.16193\n",
            "Перевірка методом quad із SciPy: 1.16228\n"
          ]
        }
      ]
    },
    {
      "cell_type": "code",
      "source": [
        "import numpy as np\n",
        "from scipy import integrate\n",
        "\n",
        "# Визначаємо функцію f(x) = sin(x) / (x + 1)\n",
        "def f(x):\n",
        "    return np.sin(x) / (x + 1)\n",
        "\n",
        "# Межі інтегрування та кількість поділок\n",
        "a = 0.18\n",
        "b = 0.98\n",
        "n = 8\n",
        "h = (b - a) / n  # Крок\n",
        "\n",
        "# Метод Сімпсона\n",
        "def simpson_rule(f, a, b, n):\n",
        "    integr = f(a) + f(b)\n",
        "    for i in range(1, n):\n",
        "        k = a + i * h\n",
        "        if i % 2 == 0:\n",
        "            integr += 2 * f(k)\n",
        "        else:\n",
        "            integr += 4 * f(k)\n",
        "    integr *= h / 3\n",
        "    return integr\n",
        "\n",
        "# Обчислюємо значення інтегралу методом Сімпсона\n",
        "print(\"Метод Сімпсона:\", round(simpson_rule(f, a, b, n), 5))\n",
        "\n",
        "# Перевірка за допомогою методу quad із SciPy\n",
        "v, err = integrate.quad(f, a, b)\n",
        "print(\"Перевірка методом SciPy quad:\", round(v, 5))\n"
      ],
      "metadata": {
        "colab": {
          "base_uri": "https://localhost:8080/"
        },
        "id": "y5kQiI3IcGsj",
        "outputId": "6560eb07-b2d2-4766-ed5b-53cbbaf4ebd6"
      },
      "execution_count": 3,
      "outputs": [
        {
          "output_type": "stream",
          "name": "stdout",
          "text": [
            "Метод Сімпсона: 0.26138\n",
            "Перевірка методом SciPy quad: 0.26138\n"
          ]
        }
      ]
    },
    {
      "cell_type": "code",
      "source": [
        "import numpy as np\n",
        "from scipy import integrate\n",
        "\n",
        "# Визначаємо функцію f(x) = 1 / sqrt(0.5x^2 + 1)\n",
        "def f(x):\n",
        "    return 1 / np.sqrt(0.5 * x**2 + 1)\n",
        "\n",
        "# Межі інтегрування та кількість поділок\n",
        "a = 3.2\n",
        "b = 4\n",
        "n = 20\n",
        "h = (b - a) / n  # Крок\n",
        "\n",
        "# Метод трапецій\n",
        "def trapezoidal_rule(f, a, b, n):\n",
        "    h = (b - a) / n\n",
        "    sum = 0.5 * (f(a) + f(b))\n",
        "    x = a\n",
        "    for i in range(1, n):\n",
        "        x += h\n",
        "        sum += f(x)\n",
        "    integral = h * sum\n",
        "    return integral\n",
        "\n",
        "# Обчислюємо значення інтегралу методом трапецій\n",
        "integral = trapezoidal_rule(f, a, b, n)\n",
        "print(\"Результат методу трапецій:\", round(integral, 5))\n",
        "\n",
        "# Перевірка за допомогою методу quad із SciPy\n",
        "v, err = integrate.quad(f, a, b)\n",
        "print(\"Перевірка методом SciPy quad:\", round(v, 5))\n"
      ],
      "metadata": {
        "colab": {
          "base_uri": "https://localhost:8080/"
        },
        "id": "D7U4Vul6cxLN",
        "outputId": "1b573c80-3b63-42bd-ee34-bfe12f74c316"
      },
      "execution_count": 4,
      "outputs": [
        {
          "output_type": "stream",
          "name": "stdout",
          "text": [
            "Результат методу трапецій: 0.29335\n",
            "Перевірка методом SciPy quad: 0.29335\n"
          ]
        }
      ]
    }
  ]
}
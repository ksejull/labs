{
  "nbformat": 4,
  "nbformat_minor": 0,
  "metadata": {
    "colab": {
      "provenance": [],
      "toc_visible": true,
      "authorship_tag": "ABX9TyPtc083/B9iFjkuN7+T5bKO",
      "include_colab_link": true
    },
    "kernelspec": {
      "name": "python3",
      "display_name": "Python 3"
    },
    "language_info": {
      "name": "python"
    }
  },
  "cells": [
    {
      "cell_type": "markdown",
      "metadata": {
        "id": "view-in-github",
        "colab_type": "text"
      },
      "source": [
        "<a href=\"https://colab.research.google.com/github/ksejull/labs/blob/main/%D0%9B%D0%A04_%D0%9B%D1%83%D1%87%D0%B0%D0%BD%D1%96%D0%BD%D0%BE%D0%B2%D0%B0.ipynb\" target=\"_parent\"><img src=\"https://colab.research.google.com/assets/colab-badge.svg\" alt=\"Open In Colab\"/></a>"
      ]
    },
    {
      "cell_type": "markdown",
      "source": [
        "Лучанінова Ксенія, Варіант 11, Група 2-8\n",
        "\n",
        "#Лабораторна робота №4"
      ],
      "metadata": {
        "id": "MWCmYtxwK_s2"
      }
    },
    {
      "cell_type": "markdown",
      "source": [
        "###1."
      ],
      "metadata": {
        "id": "xEC_exbfA4NP"
      }
    },
    {
      "cell_type": "markdown",
      "source": [
        "1.1)"
      ],
      "metadata": {
        "id": "R_HfvjXJIalt"
      }
    },
    {
      "cell_type": "code",
      "source": [
        "import numpy as np\n",
        "\n",
        "# Задання матриці A і B\n",
        "A = np.array([[1, 2], [4, -1]])\n",
        "B = np.array([[2, -3], [-4, 1]])\n",
        "\n",
        "# Обчислення матриці C = AB - BA\n",
        "C = np.dot(A, B) - np.dot(B, A)\n",
        "\n",
        "# Виводення результату\n",
        "print(\"Матриця C = AB - BA:\")\n",
        "print(C)\n"
      ],
      "metadata": {
        "colab": {
          "base_uri": "https://localhost:8080/"
        },
        "id": "JEbbqvmVApL5",
        "outputId": "7402ee1d-eb0c-4e94-9c5b-9e5aec9c6955"
      },
      "execution_count": 2,
      "outputs": [
        {
          "output_type": "stream",
          "name": "stdout",
          "text": [
            "Матриця C = AB - BA:\n",
            "[[ 4 -8]\n",
            " [12 -4]]\n"
          ]
        }
      ]
    },
    {
      "cell_type": "markdown",
      "source": [
        "2.1)"
      ],
      "metadata": {
        "id": "9ADhB08MIdLl"
      }
    },
    {
      "cell_type": "code",
      "source": [
        "import numpy as np\n",
        "\n",
        "# Задання матриці\n",
        "matrix = np.array([[-1, 2], [0, 1]])\n",
        "\n",
        "# Піднесення матриці до степеня 2\n",
        "matrix_squared = np.linalg.matrix_power(matrix, 2)\n",
        "\n",
        "# Виведення результату\n",
        "print(\"Матриця, піднесена до степеня 2:\")\n",
        "print(matrix_squared)\n"
      ],
      "metadata": {
        "colab": {
          "base_uri": "https://localhost:8080/"
        },
        "id": "DBkaE6ADBT9Q",
        "outputId": "9f2d58e6-c5f3-4a4f-ba78-5b8af518231a"
      },
      "execution_count": 6,
      "outputs": [
        {
          "output_type": "stream",
          "name": "stdout",
          "text": [
            "Матриця, піднесена до степеня 2:\n",
            "[[1 0]\n",
            " [0 1]]\n"
          ]
        }
      ]
    },
    {
      "cell_type": "markdown",
      "source": [
        "3.1)"
      ],
      "metadata": {
        "id": "B4H_v9t7IhgZ"
      }
    },
    {
      "cell_type": "code",
      "source": [
        "import numpy as np\n",
        "\n",
        "# Задання матриць\n",
        "a = np.array([[3, 5], [6, -1]])\n",
        "b = np.array([[2, 1], [-3, 2]])\n",
        "\n",
        "# Обчислення добутку матриць A і B\n",
        "product = np.dot(a, b)\n",
        "\n",
        "# Виведення результату\n",
        "print(\"Добуток матриць A * B:\")\n",
        "print(product)\n"
      ],
      "metadata": {
        "colab": {
          "base_uri": "https://localhost:8080/"
        },
        "id": "SkijikVHCN9i",
        "outputId": "c63ee935-0ba6-4e4a-e36b-eeee9040822a"
      },
      "execution_count": 11,
      "outputs": [
        {
          "output_type": "stream",
          "name": "stdout",
          "text": [
            "Добуток матриць A * B:\n",
            "[[-9 13]\n",
            " [15  4]]\n"
          ]
        }
      ]
    },
    {
      "cell_type": "markdown",
      "source": [
        "4.1)"
      ],
      "metadata": {
        "id": "MKixZETRIi2R"
      }
    },
    {
      "cell_type": "code",
      "source": [
        "import numpy as np\n",
        "\n",
        "# Задання матриці\n",
        "matrix = np.array([[2, 3, 4], [1, 0, 6], [7, 8, 9]])\n",
        "\n",
        "# Обчислення визначника\n",
        "determinant = np.linalg.det(matrix)\n",
        "\n",
        "# Виведення результату\n",
        "print(f\"Визначник матриці: {determinant:.2f}\")\n"
      ],
      "metadata": {
        "colab": {
          "base_uri": "https://localhost:8080/"
        },
        "id": "K6g9T8f9DHbU",
        "outputId": "090f1c0f-f527-4f38-891b-147ea8db0244"
      },
      "execution_count": 12,
      "outputs": [
        {
          "output_type": "stream",
          "name": "stdout",
          "text": [
            "Визначник матриці: 35.00\n"
          ]
        }
      ]
    },
    {
      "cell_type": "markdown",
      "source": [
        "5.2)"
      ],
      "metadata": {
        "id": "ilKEdKCQIlot"
      }
    },
    {
      "cell_type": "code",
      "source": [
        "import numpy as np\n",
        "\n",
        "# Задання матриці\n",
        "matrix = np.array([[2, 3, 4, 1],\n",
        "                   [1, 2, 3, 4],\n",
        "                   [3, 4, 1, 2],\n",
        "                   [4, 1, 2, 3]])\n",
        "\n",
        "# Обчислення визначника\n",
        "determinant = np.linalg.det(matrix)\n",
        "\n",
        "# Виведення результату\n",
        "print(f\"Визначник матриці: {determinant:.2f}\")"
      ],
      "metadata": {
        "colab": {
          "base_uri": "https://localhost:8080/"
        },
        "id": "jrcnczKmDso0",
        "outputId": "9416459f-15a5-44c0-d7b5-1601221202f2"
      },
      "execution_count": 13,
      "outputs": [
        {
          "output_type": "stream",
          "name": "stdout",
          "text": [
            "Визначник матриці: -160.00\n"
          ]
        }
      ]
    },
    {
      "cell_type": "markdown",
      "source": [
        "6.1)"
      ],
      "metadata": {
        "id": "owYHeSR9iG40"
      }
    },
    {
      "cell_type": "code",
      "source": [
        "import numpy as np\n",
        "\n",
        "# Задання матриці\n",
        "matrix = np.array([[1, 2, -3],\n",
        "                   [0, 1, 2],\n",
        "                   [0, 0, 1]])\n",
        "\n",
        "# Обчислення оберненої матриці\n",
        "inverse_matrix = np.linalg.inv(matrix)\n",
        "\n",
        "# Виведення результату\n",
        "print(\"Обернена матриця:\")\n",
        "print(inverse_matrix)"
      ],
      "metadata": {
        "colab": {
          "base_uri": "https://localhost:8080/"
        },
        "id": "QqxTkgCXhxha",
        "outputId": "b27c1ef3-0347-4cb2-9279-b23c81039cd3"
      },
      "execution_count": 2,
      "outputs": [
        {
          "output_type": "stream",
          "name": "stdout",
          "text": [
            "Обернена матриця:\n",
            "[[ 1. -2.  7.]\n",
            " [ 0.  1. -2.]\n",
            " [ 0.  0.  1.]]\n"
          ]
        }
      ]
    },
    {
      "cell_type": "markdown",
      "source": [
        "7.1)"
      ],
      "metadata": {
        "id": "Udhi_OeAiLJd"
      }
    },
    {
      "cell_type": "code",
      "source": [
        "import numpy as np\n",
        "\n",
        "# Задання матриці\n",
        "matrix = np.array([[1, 2, 3, 4],\n",
        "                   [3, -1, 2, 5],\n",
        "                   [1, 2, 3, 4],\n",
        "                   [1, 3, 4, 5]])\n",
        "\n",
        "# Обчислення рангу матриці\n",
        "rank = np.linalg.matrix_rank(matrix)\n",
        "\n",
        "# Виведення результату\n",
        "print(f\"Ранг матриці: {rank}\")"
      ],
      "metadata": {
        "colab": {
          "base_uri": "https://localhost:8080/"
        },
        "id": "732IMFymiKHd",
        "outputId": "7d4ff5ed-72d6-4aef-fad7-4a6729c12b41"
      },
      "execution_count": 3,
      "outputs": [
        {
          "output_type": "stream",
          "name": "stdout",
          "text": [
            "Ранг матриці: 2\n"
          ]
        }
      ]
    },
    {
      "cell_type": "markdown",
      "source": [
        "8.1)"
      ],
      "metadata": {
        "id": "dXRFhJdOie7G"
      }
    },
    {
      "cell_type": "code",
      "source": [
        "import numpy as np\n",
        "\n",
        "# Матричний метод\n",
        "def matrix_method(coefficients, constants):\n",
        "    inverse_matrix = np.linalg.inv(coefficients)\n",
        "    return np.dot(inverse_matrix, constants)\n",
        "\n",
        "# Метод Крамера\n",
        "def cramer_method(coefficients, constants):\n",
        "    det_coefficients = np.linalg.det(coefficients)\n",
        "    if det_coefficients == 0:\n",
        "        raise ValueError(\"Детермінант матриці коефіцієнтів дорівнює нулю. Система може не мати унікального розв'язку.\")\n",
        "\n",
        "    solutions = []\n",
        "    for i in range(len(coefficients)):\n",
        "        modified_coefficients = np.copy(coefficients)\n",
        "        modified_coefficients[:, i] = constants\n",
        "        solutions.append(np.linalg.det(modified_coefficients) / det_coefficients)\n",
        "    return solutions\n",
        "\n",
        "# Метод Гауса\n",
        "def gauss_method(a, b):\n",
        "    a = np.array(a, dtype=float)\n",
        "    b = np.array(b, dtype=float)\n",
        "    n = len(b)\n",
        "\n",
        "    # Прямий хід\n",
        "    for k in range(n):\n",
        "        for i in range(k + 1, n):\n",
        "            if a[i, k] != 0:\n",
        "                lam = a[i, k] / a[k, k]\n",
        "                a[i, k:] -= lam * a[k, k:]\n",
        "                b[i] -= lam * b[k]\n",
        "\n",
        "    # Зворотний хід\n",
        "    x = np.zeros(n)\n",
        "    for k in range(n - 1, -1, -1):\n",
        "        x[k] = (b[k] - np.dot(a[k, k+1:], x[k+1:])) / a[k, k]\n",
        "\n",
        "    return x\n",
        "\n",
        "def main():\n",
        "    # Матриця коефіцієнтів і вектор констант\n",
        "    a = np.array([[14, 4, 6],\n",
        "                  [5, -3, 2],\n",
        "                  [10, -11, 5]])\n",
        "    b = np.array([30, 15, 36])\n",
        "\n",
        "    # Матричний метод\n",
        "    X_matrix = matrix_method(a, b)\n",
        "    print(\"Матричний метод:\", X_matrix)\n",
        "\n",
        "    # Метод Крамера\n",
        "    X_cramer = cramer_method(a, b)\n",
        "    print(\"Метод Крамера:\", X_cramer)\n",
        "\n",
        "    # Метод Гауса\n",
        "    X_gauss = gauss_method(a, b)\n",
        "    print(\"Метод Гауса:\", X_gauss)\n",
        "\n",
        "    # Перевірка за допомогою np.linalg.solve\n",
        "    X_solve = np.linalg.solve(a, b)\n",
        "    print(\"Перевірка linalg solve():\", X_solve)\n",
        "\n",
        "if __name__ == \"__main__\":\n",
        "    main()"
      ],
      "metadata": {
        "colab": {
          "base_uri": "https://localhost:8080/"
        },
        "id": "WVu0IYJ4isRK",
        "outputId": "526b7fc4-6745-49f2-94b2-9583868481aa"
      },
      "execution_count": 4,
      "outputs": [
        {
          "output_type": "stream",
          "name": "stdout",
          "text": [
            "Матричний метод: [ 2. -1.  1.]\n",
            "Метод Крамера: [2.0000000000000018, -1.0, 0.9999999999999972]\n",
            "Метод Гауса: [ 2. -1.  1.]\n",
            "Перевірка linalg solve(): [ 2. -1.  1.]\n"
          ]
        }
      ]
    },
    {
      "cell_type": "markdown",
      "source": [
        "###2."
      ],
      "metadata": {
        "id": "kZJQDZhGg5_j"
      }
    },
    {
      "cell_type": "markdown",
      "source": [
        "1.\n"
      ],
      "metadata": {
        "id": "83mBQTyJhCMP"
      }
    },
    {
      "cell_type": "code",
      "source": [
        "import numpy as np\n",
        "\n",
        "# Функція для створення випадкової матриці і знаходження найменшого стовпчикового елемента\n",
        "def find_min_element_of_max_sum_column(n, m):\n",
        "    # Створення випадкової матриці\n",
        "    a = np.random.randint(-10, 10, size=(n, m))\n",
        "    print(\"Матриця A:\")\n",
        "    print(a)\n",
        "\n",
        "    # Обчислення суми абсолютних значень для кожного стовпця\n",
        "    abs_column_sums = np.sum(np.abs(a), axis=0)\n",
        "\n",
        "    # Знаходження індексу стовпця з максимальною сумою\n",
        "    max_sum_column_index = np.argmax(abs_column_sums)\n",
        "\n",
        "    # Витягування стовпця з максимальними сумами\n",
        "    max_sum_column = a[:, max_sum_column_index]\n",
        "\n",
        "    # Знаходження найменшого елемента у цьому стовпці\n",
        "    min_element = np.min(max_sum_column)\n",
        "\n",
        "    return min_element\n",
        "\n",
        "def main():\n",
        "    # Розміри матриці\n",
        "    n = 4  # Кількість рядків\n",
        "    m = 5  # Кількість стовпців\n",
        "\n",
        "    # Виклик функції і друк результату\n",
        "    min_element = find_min_element_of_max_sum_column(n, m)\n",
        "    print(\"Найменший стовпчиковий елемент, для якого сума абсолютних значень максимальна:\", min_element)\n",
        "\n",
        "if __name__ == \"__main__\":\n",
        "    main()"
      ],
      "metadata": {
        "colab": {
          "base_uri": "https://localhost:8080/"
        },
        "id": "rsVQD8RLg-EY",
        "outputId": "597bfeb8-4e22-41ea-faa2-ee41e718cf22"
      },
      "execution_count": 1,
      "outputs": [
        {
          "output_type": "stream",
          "name": "stdout",
          "text": [
            "Матриця A:\n",
            "[[ -9  -4  -7   7   8]\n",
            " [  9   7  -3  -6  -4]\n",
            " [-10 -10  -4  -2   1]\n",
            " [ -9   0  -9  -7   2]]\n",
            "Найменший стовпчиковий елемент, для якого сума абсолютних значень максимальна: -10\n"
          ]
        }
      ]
    }
  ]
}
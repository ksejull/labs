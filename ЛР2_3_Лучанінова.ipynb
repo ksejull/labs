{
  "nbformat": 4,
  "nbformat_minor": 0,
  "metadata": {
    "colab": {
      "provenance": [],
      "toc_visible": true,
      "authorship_tag": "ABX9TyMecrntd3FhmhQtU6xf1oBf",
      "include_colab_link": true
    },
    "kernelspec": {
      "name": "python3",
      "display_name": "Python 3"
    },
    "language_info": {
      "name": "python"
    }
  },
  "cells": [
    {
      "cell_type": "markdown",
      "metadata": {
        "id": "view-in-github",
        "colab_type": "text"
      },
      "source": [
        "<a href=\"https://colab.research.google.com/github/ksejull/labs/blob/main/%D0%9B%D0%A02_3_%D0%9B%D1%83%D1%87%D0%B0%D0%BD%D1%96%D0%BD%D0%BE%D0%B2%D0%B0.ipynb\" target=\"_parent\"><img src=\"https://colab.research.google.com/assets/colab-badge.svg\" alt=\"Open In Colab\"/></a>"
      ]
    },
    {
      "cell_type": "markdown",
      "source": [
        "Лучанінова Ксенія,\n",
        "Варіант 11,\n",
        "Група 2-8\n",
        "\n",
        "#Лабораторна робота №2"
      ],
      "metadata": {
        "id": "UW_-1b4WVF9w"
      }
    },
    {
      "cell_type": "code",
      "source": [
        "import numpy as np\n",
        "import numdifftools as nd\n",
        "\n",
        "# Функція для знаходження коренів рівняння 3x^4 + 2x^3 + x^2 + x - 5 = 0\n",
        "def f(x):\n",
        "    return 3*pow(x, 4) + 2*pow(x, 3) + pow(x, 2) + x - 5\n",
        "\n",
        "# Функція для відокремлення коренів\n",
        "def find_segments():\n",
        "    search_range = np.arange(-10, 10, 1)\n",
        "\n",
        "    a = None\n",
        "    previous_x = None\n",
        "    current_x = None\n",
        "    segments = []\n",
        "\n",
        "    for x in search_range:\n",
        "        x = round(x, 4)\n",
        "        current_x = f(x)\n",
        "        if previous_x is not None and previous_x * current_x < 0:\n",
        "            segments.append((a, x))\n",
        "        a = x\n",
        "        previous_x = current_x\n",
        "\n",
        "    return segments\n",
        "\n",
        "# Метод половинного ділення\n",
        "def rec(a, b, eps):\n",
        "    while (abs(a - b) > eps):\n",
        "        mid = (a + b) / 2\n",
        "        if f(a) * f(mid) < 0:\n",
        "            b = mid\n",
        "        else:\n",
        "            a = mid\n",
        "    x = (a + b) / 2\n",
        "    print('x =', round(x, 5), ' - Метод половинного ділення')\n",
        "    return x\n",
        "\n",
        "# Метод хорд\n",
        "def hord(a, b, eps):\n",
        "    derivative_f = nd.Derivative(f, n=1)\n",
        "    if f(a) * derivative_f(a) > 0:\n",
        "        x0 = a\n",
        "        xi = b\n",
        "    else:\n",
        "        x0 = b\n",
        "        xi = a\n",
        "\n",
        "    xi_1 = xi - (xi - x0) * f(xi) / (f(xi) - f(x0))\n",
        "    while abs(xi_1 - xi) > eps:\n",
        "        xi = xi_1\n",
        "        xi_1 = xi - (xi - x0) * f(xi) / (f(xi) - f(x0))\n",
        "\n",
        "    print('x =', round(xi_1, 5), ' - Метод хорд')\n",
        "    return xi_1\n",
        "\n",
        "# Задаємо початкові параметри\n",
        "eps = 0.0001  # точність\n",
        "\n",
        "# Відокремлюємо корені\n",
        "segments = find_segments()\n",
        "for a, b in segments:\n",
        "    print(f\"Розв'язання нелінійного рівняння на відрізку [{a}, {b}]\")\n",
        "    rec_result = rec(a, b, eps)  # Викликаємо метод половинного ділення для цього відрізка\n",
        "    hord_result = hord(a, b, eps)  # Викликаємо метод хорд для цього відрізка"
      ],
      "metadata": {
        "colab": {
          "base_uri": "https://localhost:8080/"
        },
        "id": "g0CCCrxMVXrp",
        "outputId": "f2857d63-de93-4f06-a22e-1e87177cb2b6"
      },
      "execution_count": 15,
      "outputs": [
        {
          "output_type": "stream",
          "name": "stdout",
          "text": [
            "Розв'язання нелінійного рівняння на відрізку [-2, -1]\n",
            "x = -1.3237  - Метод половинного ділення\n",
            "x = -1.32371  - Метод хорд\n",
            "Розв'язання нелінійного рівняння на відрізку [0, 1]\n",
            "x = 0.89163  - Метод половинного ділення\n",
            "x = 0.8916  - Метод хорд\n"
          ]
        }
      ]
    },
    {
      "cell_type": "markdown",
      "source": [
        "Лучанінова Ксенія, Варіант 11, Група 2-8\n",
        "\n",
        "#Лабораторна робота №3\n"
      ],
      "metadata": {
        "id": "I_koIXH9SJgd"
      }
    },
    {
      "cell_type": "code",
      "source": [
        "import numpy as np\n",
        "import numdifftools as nd\n",
        "\n",
        "# Функція f(x)\n",
        "f = lambda x: 3*x**4 + 2*x**3 + x**2 + x - 5\n",
        "\n",
        "# Функція для відокремлення коренів\n",
        "def find_segments():\n",
        "    search_range = np.arange(-10, 10, 1)\n",
        "    a = None\n",
        "    previous_x = None\n",
        "    current_x = None\n",
        "    segments = []\n",
        "    for x in search_range:\n",
        "        x = round(x, 4)\n",
        "        current_x = f(x)\n",
        "        if previous_x is not None and previous_x * current_x < 0:\n",
        "            segments.append((a, x))\n",
        "        a = x\n",
        "        previous_x = current_x\n",
        "    return segments\n",
        "\n",
        "# Метод Ньютона\n",
        "def newton_method(a, b, eps, f):\n",
        "    df2 = nd.Derivative(f, n=2)(b)\n",
        "    if f(b) * df2 > 0:\n",
        "        xi = b\n",
        "    else:\n",
        "        xi = a\n",
        "    df = nd.Derivative(f, n=1)(xi)\n",
        "    xi_1 = xi - f(xi) / df\n",
        "    while abs(xi_1 - xi) > eps:\n",
        "        xi = xi_1\n",
        "        df = nd.Derivative(f, n=1)(xi)\n",
        "        xi_1 = xi - f(xi) / df\n",
        "    print('Метод Ньютона, x = ', round(xi_1, 4))\n",
        "\n",
        "# Комбінований метод\n",
        "def combined_method(a, b, eps, f):\n",
        "    if nd.Derivative(f, n=1)(a) * nd.Derivative(f, n=2)(a) > 0:\n",
        "        a0 = a\n",
        "        b0 = b\n",
        "    else:\n",
        "        a0 = b\n",
        "        b0 = a\n",
        "    ai = a0\n",
        "    bi = b0\n",
        "    while abs(ai - bi) > eps:\n",
        "        ai_1 = ai - f(ai) * (bi - ai) / (f(bi) - f(ai))\n",
        "        bi_1 = bi - f(bi) / nd.Derivative(f, n=1)(bi)\n",
        "        ai = ai_1\n",
        "        bi = bi_1\n",
        "    x = (ai + bi) / 2\n",
        "    print('Комбінований метод, x = ', round(x, 4))\n",
        "\n",
        "if __name__ == \"__main__\":\n",
        "    segments = find_segments()\n",
        "    eps = 0.001\n",
        "\n",
        "    for a, b in segments:\n",
        "        print(f\"Розв'язки на відрізку [{a}, {b}]\")\n",
        "        newton_method(a, b, eps, f)\n",
        "        combined_method(a, b, eps, f)\n"
      ],
      "metadata": {
        "colab": {
          "base_uri": "https://localhost:8080/"
        },
        "id": "dq4vRMz7SUYA",
        "outputId": "b8757fad-616b-47c5-e3f4-84f91d0a86ad"
      },
      "execution_count": 3,
      "outputs": [
        {
          "output_type": "stream",
          "name": "stdout",
          "text": [
            "Розв'язки на відрізку [-2, -1]\n",
            "Метод Ньютона, x =  -1.3237\n",
            "Комбінований метод, x =  -1.3237\n",
            "Розв'язки на відрізку [0, 1]\n",
            "Метод Ньютона, x =  0.8916\n",
            "Комбінований метод, x =  0.8916\n"
          ]
        }
      ]
    }
  ]
}